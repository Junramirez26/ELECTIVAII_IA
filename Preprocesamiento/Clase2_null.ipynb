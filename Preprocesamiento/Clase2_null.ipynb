{
 "cells": [
  {
   "cell_type": "markdown",
   "metadata": {},
   "source": [
    "# DETECCION DE VALORES NULOS"
   ]
  },
  {
   "cell_type": "code",
   "execution_count": 1,
   "metadata": {},
   "outputs": [],
   "source": [
    "import pandas as pd"
   ]
  },
  {
   "cell_type": "code",
   "execution_count": 2,
   "metadata": {},
   "outputs": [],
   "source": [
    "dataFrame = pd.DataFrame({\n",
    "    \"Nombre\" : [\"ANA\", \"gabriel\", None, \"Carlos   \"],\n",
    "    \"Edad\" : [25, 225, 30, 40]\n",
    "})"
   ]
  },
  {
   "cell_type": "code",
   "execution_count": 3,
   "metadata": {},
   "outputs": [
    {
     "name": "stdout",
     "output_type": "stream",
     "text": [
      "Nombre    1\n",
      "Edad      0\n",
      "dtype: int64\n"
     ]
    }
   ],
   "source": [
    "#Imprimir los valores nulos que se encuentren en el dataset\n",
    "\n",
    "valores_nulos = dataFrame.isnull().sum()\n",
    "print(valores_nulos)"
   ]
  },
  {
   "cell_type": "markdown",
   "metadata": {},
   "source": [
    "# ENCONTRAR VALORES DUPLICADOS"
   ]
  },
  {
   "cell_type": "code",
   "execution_count": 4,
   "metadata": {},
   "outputs": [],
   "source": [
    "# Eliminacion directa a valores duplicados\n",
    "\n",
    "dataFrame_sin_duplicados = dataFrame.drop_duplicates()"
   ]
  },
  {
   "cell_type": "markdown",
   "metadata": {},
   "source": [
    "# ENCONTRAR VALORES ATIPICOS A TRAVES DE BOXPLOT"
   ]
  },
  {
   "cell_type": "code",
   "execution_count": 5,
   "metadata": {},
   "outputs": [
    {
     "data": {
      "image/png": "[encoded data removed]",
      "text/plain": [
       "<Figure size 640x480 with 1 Axes>"
      ]
     },
     "metadata": {},
     "output_type": "display_data"
    }
   ],
   "source": [
    "import seaborn as sns\n",
    "import matplotlib.pyplot as plt\n",
    "\n",
    "sns.boxplot(x=dataFrame[\"Edad\"])\n",
    "plt.show()"
   ]
  },
  {
   "cell_type": "markdown",
   "metadata": {},
   "source": [
    "# CORRECCION DE DATOS INCORRECTOS"
   ]
  },
  {
   "cell_type": "code",
   "execution_count": 6,
   "metadata": {},
   "outputs": [],
   "source": [
    "# SUSTITUCION DE VARIABLES A TRAVES DE BUSQUEDA\n",
    "\n",
    "df_edades = dataFrame[dataFrame[\"Edad\"] < 100]"
   ]
  },
  {
   "cell_type": "code",
   "execution_count": 7,
   "metadata": {},
   "outputs": [],
   "source": [
    "# CORRECCION DEL FORMATO DE TEXTO\n",
    "# TODOS LOS VALORES DE LA COLUMNA SE TRANSFORMA A MINUSCULAS\n",
    "\n",
    "df_nombres = dataFrame[\"Nombre\"].str.lower().str.strip()"
   ]
  },
  {
   "cell_type": "code",
   "execution_count": 8,
   "metadata": {},
   "outputs": [],
   "source": [
    "# ELIMINAR NULO PARA EXPORTAR\n",
    "\n",
    "df_nombres = df_nombres.dropna()"
   ]
  },
  {
   "cell_type": "markdown",
   "metadata": {},
   "source": [
    "# EXPORTACION A ARCHIVO PLANO SEPARADO POR COMAS CSV"
   ]
  },
  {
   "cell_type": "code",
   "execution_count": 10,
   "metadata": {},
   "outputs": [],
   "source": [
    "dataFrame.to_csv(\"datos_limpios.csv\", index=False)"
   ]
  }
 ],
 "metadata": {
  "kernelspec": {
   "display_name": "Python 3",
   "language": "python",
   "name": "python3"
  },
  "language_info": {
   "codemirror_mode": {
    "name": "ipython",
    "version": 3
   },
   "file_extension": ".py",
   "mimetype": "text/x-python",
   "name": "python",
   "nbconvert_exporter": "python",
   "pygments_lexer": "ipython3",
   "version": "3.13.2"
  }
 },
 "nbformat": 4,
 "nbformat_minor": 2
}
